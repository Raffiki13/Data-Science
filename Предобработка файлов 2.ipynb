{
 "cells": [
  {
   "cell_type": "markdown",
   "id": "100c2015",
   "metadata": {},
   "source": [
    "Привет! Меня зовут Исмаил, я буду проверять твой проект :) Можешь обращаться ко мне на «ты». Если тебе комфортно, то и я буду к тебе так обращаться, если нет, то обязательно скажи об этом.\n",
    "\n",
    "Пожалуйста, не удаляй мои комментарии, которые я буду оставлять в работе. Это особенно поможет, если твои проекты будут отправлены на повторную проверку. При повторных проверках у комментариев будут приписки: \"Вторая итерация\", \"Третья итерация\" и т.д. \n",
    "\n",
    "Ты тоже можешь реагировать на мои комментарии, но в таком случае постарайся, чтобы твои комментарии отличались от моих: например, выделяй их своим любимым цветом — так у нас не возникнет путаницы :)\n",
    "\n",
    "Кстати, про цвета! Мои комментарии будут в следующей цветовой гамме: зелеными, желтыми и красными. Например:\n",
    "\n",
    "<div class=\"alert-success\"> \n",
    "<b>Комментарий ревьюера 👍 </b>\n",
    "    \n",
    "В случае, если решение на отдельном шаге является полностью правильным. </div>\n",
    "\n",
    "<div class=\"alert-warning\"> \n",
    "<b>Комментарий ревьюера 💡</b> \n",
    "    \n",
    "В случае, если решение может стать еще лучше с некоторыми корректировками </div>\n",
    " \n",
    "<div class=\"alert-danger\"> \n",
    "<b>Комментарий ревьюера ❌</b> \n",
    "    \n",
    "В случае, если решение какого-то шага требует значительных изменений. Проект не может быть принят с первого раза, если ревью содержит комментарии, помеченные этим цветом </div>"
   ]
  },
  {
   "cell_type": "markdown",
   "id": "f26ea4ca",
   "metadata": {
    "deletable": false,
    "editable": false,
    "id": "c81daeeb"
   },
   "source": [
    "# Исследование надежности заемщиков\n"
   ]
  },
  {
   "cell_type": "markdown",
   "id": "215e91e5",
   "metadata": {
    "deletable": false,
    "editable": false,
    "id": "827c20bf"
   },
   "source": [
    "Во второй части проекта вы выполните шаги 3 и 4. Их вручную проверит ревьюер.\n",
    "Чтобы вам не пришлось писать код заново для шагов 1 и 2, мы добавили авторские решения в ячейки с кодом. \n",
    "\n"
   ]
  },
  {
   "cell_type": "markdown",
   "id": "1cf5d642",
   "metadata": {
    "deletable": false,
    "editable": false,
    "id": "744d7639"
   },
   "source": [
    "## Откройте таблицу и изучите общую информацию о данных"
   ]
  },
  {
   "cell_type": "markdown",
   "id": "d4504de2",
   "metadata": {
    "deletable": false,
    "editable": false,
    "id": "e7a14c31"
   },
   "source": [
    "**Задание 1. Импортируйте библиотеку pandas. Считайте данные из csv-файла в датафрейм и сохраните в переменную `data`. Путь к файлу:**\n",
    "\n",
    "`/datasets/data.csv`"
   ]
  },
  {
   "cell_type": "code",
   "execution_count": 2,
   "id": "0b11153e",
   "metadata": {
    "deletable": false,
    "id": "7bcf75c9"
   },
   "outputs": [],
   "source": [
    "import pandas as pd\n",
    "\n",
    "try:\n",
    "    data = pd.read_csv('/datasets/data.csv')\n",
    "except:\n",
    "    data = pd.read_csv('https://code.s3.yandex.net/datasets/data.csv')"
   ]
  },
  {
   "cell_type": "markdown",
   "id": "8872655f",
   "metadata": {
    "deletable": false,
    "editable": false,
    "id": "b8038fe3"
   },
   "source": [
    "**Задание 2. Выведите первые 20 строчек датафрейма `data` на экран.**"
   ]
  },
  {
   "cell_type": "code",
   "execution_count": 3,
   "id": "2891f2ec",
   "metadata": {
    "deletable": false,
    "id": "2a7cab99",
    "outputId": "1a8f3ef2-d323-4ec2-ddf7-89670b5944c4"
   },
   "outputs": [
    {
     "data": {
      "text/html": [
       "<div>\n",
       "<style scoped>\n",
       "    .dataframe tbody tr th:only-of-type {\n",
       "        vertical-align: middle;\n",
       "    }\n",
       "\n",
       "    .dataframe tbody tr th {\n",
       "        vertical-align: top;\n",
       "    }\n",
       "\n",
       "    .dataframe thead th {\n",
       "        text-align: right;\n",
       "    }\n",
       "</style>\n",
       "<table border=\"1\" class=\"dataframe\">\n",
       "  <thead>\n",
       "    <tr style=\"text-align: right;\">\n",
       "      <th></th>\n",
       "      <th>children</th>\n",
       "      <th>days_employed</th>\n",
       "      <th>dob_years</th>\n",
       "      <th>education</th>\n",
       "      <th>education_id</th>\n",
       "      <th>family_status</th>\n",
       "      <th>family_status_id</th>\n",
       "      <th>gender</th>\n",
       "      <th>income_type</th>\n",
       "      <th>debt</th>\n",
       "      <th>total_income</th>\n",
       "      <th>purpose</th>\n",
       "    </tr>\n",
       "  </thead>\n",
       "  <tbody>\n",
       "    <tr>\n",
       "      <th>0</th>\n",
       "      <td>1</td>\n",
       "      <td>-8437.673028</td>\n",
       "      <td>42</td>\n",
       "      <td>высшее</td>\n",
       "      <td>0</td>\n",
       "      <td>женат / замужем</td>\n",
       "      <td>0</td>\n",
       "      <td>F</td>\n",
       "      <td>сотрудник</td>\n",
       "      <td>0</td>\n",
       "      <td>253875.639453</td>\n",
       "      <td>покупка жилья</td>\n",
       "    </tr>\n",
       "    <tr>\n",
       "      <th>1</th>\n",
       "      <td>1</td>\n",
       "      <td>-4024.803754</td>\n",
       "      <td>36</td>\n",
       "      <td>среднее</td>\n",
       "      <td>1</td>\n",
       "      <td>женат / замужем</td>\n",
       "      <td>0</td>\n",
       "      <td>F</td>\n",
       "      <td>сотрудник</td>\n",
       "      <td>0</td>\n",
       "      <td>112080.014102</td>\n",
       "      <td>приобретение автомобиля</td>\n",
       "    </tr>\n",
       "    <tr>\n",
       "      <th>2</th>\n",
       "      <td>0</td>\n",
       "      <td>-5623.422610</td>\n",
       "      <td>33</td>\n",
       "      <td>Среднее</td>\n",
       "      <td>1</td>\n",
       "      <td>женат / замужем</td>\n",
       "      <td>0</td>\n",
       "      <td>M</td>\n",
       "      <td>сотрудник</td>\n",
       "      <td>0</td>\n",
       "      <td>145885.952297</td>\n",
       "      <td>покупка жилья</td>\n",
       "    </tr>\n",
       "    <tr>\n",
       "      <th>3</th>\n",
       "      <td>3</td>\n",
       "      <td>-4124.747207</td>\n",
       "      <td>32</td>\n",
       "      <td>среднее</td>\n",
       "      <td>1</td>\n",
       "      <td>женат / замужем</td>\n",
       "      <td>0</td>\n",
       "      <td>M</td>\n",
       "      <td>сотрудник</td>\n",
       "      <td>0</td>\n",
       "      <td>267628.550329</td>\n",
       "      <td>дополнительное образование</td>\n",
       "    </tr>\n",
       "    <tr>\n",
       "      <th>4</th>\n",
       "      <td>0</td>\n",
       "      <td>340266.072047</td>\n",
       "      <td>53</td>\n",
       "      <td>среднее</td>\n",
       "      <td>1</td>\n",
       "      <td>гражданский брак</td>\n",
       "      <td>1</td>\n",
       "      <td>F</td>\n",
       "      <td>пенсионер</td>\n",
       "      <td>0</td>\n",
       "      <td>158616.077870</td>\n",
       "      <td>сыграть свадьбу</td>\n",
       "    </tr>\n",
       "    <tr>\n",
       "      <th>5</th>\n",
       "      <td>0</td>\n",
       "      <td>-926.185831</td>\n",
       "      <td>27</td>\n",
       "      <td>высшее</td>\n",
       "      <td>0</td>\n",
       "      <td>гражданский брак</td>\n",
       "      <td>1</td>\n",
       "      <td>M</td>\n",
       "      <td>компаньон</td>\n",
       "      <td>0</td>\n",
       "      <td>255763.565419</td>\n",
       "      <td>покупка жилья</td>\n",
       "    </tr>\n",
       "    <tr>\n",
       "      <th>6</th>\n",
       "      <td>0</td>\n",
       "      <td>-2879.202052</td>\n",
       "      <td>43</td>\n",
       "      <td>высшее</td>\n",
       "      <td>0</td>\n",
       "      <td>женат / замужем</td>\n",
       "      <td>0</td>\n",
       "      <td>F</td>\n",
       "      <td>компаньон</td>\n",
       "      <td>0</td>\n",
       "      <td>240525.971920</td>\n",
       "      <td>операции с жильем</td>\n",
       "    </tr>\n",
       "    <tr>\n",
       "      <th>7</th>\n",
       "      <td>0</td>\n",
       "      <td>-152.779569</td>\n",
       "      <td>50</td>\n",
       "      <td>СРЕДНЕЕ</td>\n",
       "      <td>1</td>\n",
       "      <td>женат / замужем</td>\n",
       "      <td>0</td>\n",
       "      <td>M</td>\n",
       "      <td>сотрудник</td>\n",
       "      <td>0</td>\n",
       "      <td>135823.934197</td>\n",
       "      <td>образование</td>\n",
       "    </tr>\n",
       "    <tr>\n",
       "      <th>8</th>\n",
       "      <td>2</td>\n",
       "      <td>-6929.865299</td>\n",
       "      <td>35</td>\n",
       "      <td>ВЫСШЕЕ</td>\n",
       "      <td>0</td>\n",
       "      <td>гражданский брак</td>\n",
       "      <td>1</td>\n",
       "      <td>F</td>\n",
       "      <td>сотрудник</td>\n",
       "      <td>0</td>\n",
       "      <td>95856.832424</td>\n",
       "      <td>на проведение свадьбы</td>\n",
       "    </tr>\n",
       "    <tr>\n",
       "      <th>9</th>\n",
       "      <td>0</td>\n",
       "      <td>-2188.756445</td>\n",
       "      <td>41</td>\n",
       "      <td>среднее</td>\n",
       "      <td>1</td>\n",
       "      <td>женат / замужем</td>\n",
       "      <td>0</td>\n",
       "      <td>M</td>\n",
       "      <td>сотрудник</td>\n",
       "      <td>0</td>\n",
       "      <td>144425.938277</td>\n",
       "      <td>покупка жилья для семьи</td>\n",
       "    </tr>\n",
       "    <tr>\n",
       "      <th>10</th>\n",
       "      <td>2</td>\n",
       "      <td>-4171.483647</td>\n",
       "      <td>36</td>\n",
       "      <td>высшее</td>\n",
       "      <td>0</td>\n",
       "      <td>женат / замужем</td>\n",
       "      <td>0</td>\n",
       "      <td>M</td>\n",
       "      <td>компаньон</td>\n",
       "      <td>0</td>\n",
       "      <td>113943.491460</td>\n",
       "      <td>покупка недвижимости</td>\n",
       "    </tr>\n",
       "    <tr>\n",
       "      <th>11</th>\n",
       "      <td>0</td>\n",
       "      <td>-792.701887</td>\n",
       "      <td>40</td>\n",
       "      <td>среднее</td>\n",
       "      <td>1</td>\n",
       "      <td>женат / замужем</td>\n",
       "      <td>0</td>\n",
       "      <td>F</td>\n",
       "      <td>сотрудник</td>\n",
       "      <td>0</td>\n",
       "      <td>77069.234271</td>\n",
       "      <td>покупка коммерческой недвижимости</td>\n",
       "    </tr>\n",
       "    <tr>\n",
       "      <th>12</th>\n",
       "      <td>0</td>\n",
       "      <td>NaN</td>\n",
       "      <td>65</td>\n",
       "      <td>среднее</td>\n",
       "      <td>1</td>\n",
       "      <td>гражданский брак</td>\n",
       "      <td>1</td>\n",
       "      <td>M</td>\n",
       "      <td>пенсионер</td>\n",
       "      <td>0</td>\n",
       "      <td>NaN</td>\n",
       "      <td>сыграть свадьбу</td>\n",
       "    </tr>\n",
       "    <tr>\n",
       "      <th>13</th>\n",
       "      <td>0</td>\n",
       "      <td>-1846.641941</td>\n",
       "      <td>54</td>\n",
       "      <td>неоконченное высшее</td>\n",
       "      <td>2</td>\n",
       "      <td>женат / замужем</td>\n",
       "      <td>0</td>\n",
       "      <td>F</td>\n",
       "      <td>сотрудник</td>\n",
       "      <td>0</td>\n",
       "      <td>130458.228857</td>\n",
       "      <td>приобретение автомобиля</td>\n",
       "    </tr>\n",
       "    <tr>\n",
       "      <th>14</th>\n",
       "      <td>0</td>\n",
       "      <td>-1844.956182</td>\n",
       "      <td>56</td>\n",
       "      <td>высшее</td>\n",
       "      <td>0</td>\n",
       "      <td>гражданский брак</td>\n",
       "      <td>1</td>\n",
       "      <td>F</td>\n",
       "      <td>компаньон</td>\n",
       "      <td>1</td>\n",
       "      <td>165127.911772</td>\n",
       "      <td>покупка жилой недвижимости</td>\n",
       "    </tr>\n",
       "    <tr>\n",
       "      <th>15</th>\n",
       "      <td>1</td>\n",
       "      <td>-972.364419</td>\n",
       "      <td>26</td>\n",
       "      <td>среднее</td>\n",
       "      <td>1</td>\n",
       "      <td>женат / замужем</td>\n",
       "      <td>0</td>\n",
       "      <td>F</td>\n",
       "      <td>сотрудник</td>\n",
       "      <td>0</td>\n",
       "      <td>116820.904450</td>\n",
       "      <td>строительство собственной недвижимости</td>\n",
       "    </tr>\n",
       "    <tr>\n",
       "      <th>16</th>\n",
       "      <td>0</td>\n",
       "      <td>-1719.934226</td>\n",
       "      <td>35</td>\n",
       "      <td>среднее</td>\n",
       "      <td>1</td>\n",
       "      <td>женат / замужем</td>\n",
       "      <td>0</td>\n",
       "      <td>F</td>\n",
       "      <td>сотрудник</td>\n",
       "      <td>0</td>\n",
       "      <td>289202.704229</td>\n",
       "      <td>недвижимость</td>\n",
       "    </tr>\n",
       "    <tr>\n",
       "      <th>17</th>\n",
       "      <td>0</td>\n",
       "      <td>-2369.999720</td>\n",
       "      <td>33</td>\n",
       "      <td>высшее</td>\n",
       "      <td>0</td>\n",
       "      <td>гражданский брак</td>\n",
       "      <td>1</td>\n",
       "      <td>M</td>\n",
       "      <td>сотрудник</td>\n",
       "      <td>0</td>\n",
       "      <td>90410.586745</td>\n",
       "      <td>строительство недвижимости</td>\n",
       "    </tr>\n",
       "    <tr>\n",
       "      <th>18</th>\n",
       "      <td>0</td>\n",
       "      <td>400281.136913</td>\n",
       "      <td>53</td>\n",
       "      <td>среднее</td>\n",
       "      <td>1</td>\n",
       "      <td>вдовец / вдова</td>\n",
       "      <td>2</td>\n",
       "      <td>F</td>\n",
       "      <td>пенсионер</td>\n",
       "      <td>0</td>\n",
       "      <td>56823.777243</td>\n",
       "      <td>на покупку подержанного автомобиля</td>\n",
       "    </tr>\n",
       "    <tr>\n",
       "      <th>19</th>\n",
       "      <td>0</td>\n",
       "      <td>-10038.818549</td>\n",
       "      <td>48</td>\n",
       "      <td>СРЕДНЕЕ</td>\n",
       "      <td>1</td>\n",
       "      <td>в разводе</td>\n",
       "      <td>3</td>\n",
       "      <td>F</td>\n",
       "      <td>сотрудник</td>\n",
       "      <td>0</td>\n",
       "      <td>242831.107982</td>\n",
       "      <td>на покупку своего автомобиля</td>\n",
       "    </tr>\n",
       "  </tbody>\n",
       "</table>\n",
       "</div>"
      ],
      "text/plain": [
       "    children  days_employed  dob_years            education  education_id  \\\n",
       "0          1   -8437.673028         42               высшее             0   \n",
       "1          1   -4024.803754         36              среднее             1   \n",
       "2          0   -5623.422610         33              Среднее             1   \n",
       "3          3   -4124.747207         32              среднее             1   \n",
       "4          0  340266.072047         53              среднее             1   \n",
       "5          0    -926.185831         27               высшее             0   \n",
       "6          0   -2879.202052         43               высшее             0   \n",
       "7          0    -152.779569         50              СРЕДНЕЕ             1   \n",
       "8          2   -6929.865299         35               ВЫСШЕЕ             0   \n",
       "9          0   -2188.756445         41              среднее             1   \n",
       "10         2   -4171.483647         36               высшее             0   \n",
       "11         0    -792.701887         40              среднее             1   \n",
       "12         0            NaN         65              среднее             1   \n",
       "13         0   -1846.641941         54  неоконченное высшее             2   \n",
       "14         0   -1844.956182         56               высшее             0   \n",
       "15         1    -972.364419         26              среднее             1   \n",
       "16         0   -1719.934226         35              среднее             1   \n",
       "17         0   -2369.999720         33               высшее             0   \n",
       "18         0  400281.136913         53              среднее             1   \n",
       "19         0  -10038.818549         48              СРЕДНЕЕ             1   \n",
       "\n",
       "       family_status  family_status_id gender income_type  debt  \\\n",
       "0    женат / замужем                 0      F   сотрудник     0   \n",
       "1    женат / замужем                 0      F   сотрудник     0   \n",
       "2    женат / замужем                 0      M   сотрудник     0   \n",
       "3    женат / замужем                 0      M   сотрудник     0   \n",
       "4   гражданский брак                 1      F   пенсионер     0   \n",
       "5   гражданский брак                 1      M   компаньон     0   \n",
       "6    женат / замужем                 0      F   компаньон     0   \n",
       "7    женат / замужем                 0      M   сотрудник     0   \n",
       "8   гражданский брак                 1      F   сотрудник     0   \n",
       "9    женат / замужем                 0      M   сотрудник     0   \n",
       "10   женат / замужем                 0      M   компаньон     0   \n",
       "11   женат / замужем                 0      F   сотрудник     0   \n",
       "12  гражданский брак                 1      M   пенсионер     0   \n",
       "13   женат / замужем                 0      F   сотрудник     0   \n",
       "14  гражданский брак                 1      F   компаньон     1   \n",
       "15   женат / замужем                 0      F   сотрудник     0   \n",
       "16   женат / замужем                 0      F   сотрудник     0   \n",
       "17  гражданский брак                 1      M   сотрудник     0   \n",
       "18    вдовец / вдова                 2      F   пенсионер     0   \n",
       "19         в разводе                 3      F   сотрудник     0   \n",
       "\n",
       "     total_income                                 purpose  \n",
       "0   253875.639453                           покупка жилья  \n",
       "1   112080.014102                 приобретение автомобиля  \n",
       "2   145885.952297                           покупка жилья  \n",
       "3   267628.550329              дополнительное образование  \n",
       "4   158616.077870                         сыграть свадьбу  \n",
       "5   255763.565419                           покупка жилья  \n",
       "6   240525.971920                       операции с жильем  \n",
       "7   135823.934197                             образование  \n",
       "8    95856.832424                   на проведение свадьбы  \n",
       "9   144425.938277                 покупка жилья для семьи  \n",
       "10  113943.491460                    покупка недвижимости  \n",
       "11   77069.234271       покупка коммерческой недвижимости  \n",
       "12            NaN                         сыграть свадьбу  \n",
       "13  130458.228857                 приобретение автомобиля  \n",
       "14  165127.911772              покупка жилой недвижимости  \n",
       "15  116820.904450  строительство собственной недвижимости  \n",
       "16  289202.704229                            недвижимость  \n",
       "17   90410.586745              строительство недвижимости  \n",
       "18   56823.777243      на покупку подержанного автомобиля  \n",
       "19  242831.107982            на покупку своего автомобиля  "
      ]
     },
     "execution_count": 3,
     "metadata": {},
     "output_type": "execute_result"
    }
   ],
   "source": [
    "data.head(20)"
   ]
  },
  {
   "cell_type": "markdown",
   "id": "6c546b78",
   "metadata": {
    "deletable": false,
    "editable": false,
    "id": "1c12e233"
   },
   "source": [
    "**Задание 3. Выведите основную информацию о датафрейме с помощью метода `info()`.**"
   ]
  },
  {
   "cell_type": "code",
   "execution_count": 4,
   "id": "1bed58f8",
   "metadata": {
    "deletable": false,
    "id": "2b757bca",
    "outputId": "15376089-8dad-46c9-b520-c05248d43158"
   },
   "outputs": [
    {
     "name": "stdout",
     "output_type": "stream",
     "text": [
      "<class 'pandas.core.frame.DataFrame'>\n",
      "RangeIndex: 21525 entries, 0 to 21524\n",
      "Data columns (total 12 columns):\n",
      " #   Column            Non-Null Count  Dtype  \n",
      "---  ------            --------------  -----  \n",
      " 0   children          21525 non-null  int64  \n",
      " 1   days_employed     19351 non-null  float64\n",
      " 2   dob_years         21525 non-null  int64  \n",
      " 3   education         21525 non-null  object \n",
      " 4   education_id      21525 non-null  int64  \n",
      " 5   family_status     21525 non-null  object \n",
      " 6   family_status_id  21525 non-null  int64  \n",
      " 7   gender            21525 non-null  object \n",
      " 8   income_type       21525 non-null  object \n",
      " 9   debt              21525 non-null  int64  \n",
      " 10  total_income      19351 non-null  float64\n",
      " 11  purpose           21525 non-null  object \n",
      "dtypes: float64(2), int64(5), object(5)\n",
      "memory usage: 2.0+ MB\n"
     ]
    }
   ],
   "source": [
    "data.info()"
   ]
  },
  {
   "cell_type": "markdown",
   "id": "51e09503",
   "metadata": {
    "deletable": false,
    "editable": false,
    "id": "333ec665"
   },
   "source": [
    "## Предобработка данных"
   ]
  },
  {
   "cell_type": "markdown",
   "id": "86cca3ca",
   "metadata": {
    "deletable": false,
    "editable": false,
    "id": "02d92d53"
   },
   "source": [
    "### Удаление пропусков"
   ]
  },
  {
   "cell_type": "markdown",
   "id": "bf2d7f0a",
   "metadata": {
    "deletable": false,
    "editable": false,
    "id": "cd84967c"
   },
   "source": [
    "**Задание 4. Выведите количество пропущенных значений для каждого столбца. Используйте комбинацию двух методов.**"
   ]
  },
  {
   "cell_type": "code",
   "execution_count": 5,
   "id": "317655eb",
   "metadata": {
    "deletable": false,
    "id": "7f9b2309",
    "outputId": "81f4d817-781c-465c-ed15-91ce4446810d"
   },
   "outputs": [
    {
     "data": {
      "text/plain": [
       "children               0\n",
       "days_employed       2174\n",
       "dob_years              0\n",
       "education              0\n",
       "education_id           0\n",
       "family_status          0\n",
       "family_status_id       0\n",
       "gender                 0\n",
       "income_type            0\n",
       "debt                   0\n",
       "total_income        2174\n",
       "purpose                0\n",
       "dtype: int64"
      ]
     },
     "execution_count": 5,
     "metadata": {},
     "output_type": "execute_result"
    }
   ],
   "source": [
    "data.isna().sum()"
   ]
  },
  {
   "cell_type": "markdown",
   "id": "614e935e",
   "metadata": {
    "deletable": false,
    "editable": false,
    "id": "db86e27b"
   },
   "source": [
    "**Задание 5. В двух столбцах есть пропущенные значения. Один из них — `days_employed`. Пропуски в этом столбце вы обработаете на следующем этапе. Другой столбец с пропущенными значениями — `total_income` — хранит данные о доходах. На сумму дохода сильнее всего влияет тип занятости, поэтому заполнить пропуски в этом столбце нужно медианным значением по каждому типу из столбца `income_type`. Например, у человека с типом занятости `сотрудник` пропуск в столбце `total_income` должен быть заполнен медианным доходом среди всех записей с тем же типом.**"
   ]
  },
  {
   "cell_type": "code",
   "execution_count": 6,
   "id": "6130db01",
   "metadata": {
    "deletable": false,
    "id": "42006a93"
   },
   "outputs": [],
   "source": [
    "for t in data['income_type'].unique():\n",
    "    data.loc[(data['income_type'] == t) & (data['total_income'].isna()), 'total_income'] = \\\n",
    "    data.loc[(data['income_type'] == t), 'total_income'].median()"
   ]
  },
  {
   "cell_type": "markdown",
   "id": "f78c5374",
   "metadata": {
    "deletable": false,
    "editable": false,
    "id": "89da5ece"
   },
   "source": [
    "### Обработка аномальных значений"
   ]
  },
  {
   "cell_type": "markdown",
   "id": "f13b8e9e",
   "metadata": {
    "deletable": false,
    "editable": false,
    "id": "57964554"
   },
   "source": [
    "**Задание 6. В данных могут встречаться артефакты (аномалии) — значения, которые не отражают действительность и появились по какой-то ошибке. таким артефактом будет отрицательное количество дней трудового стажа в столбце `days_employed`. Для реальных данных это нормально. Обработайте значения в этом столбце: замените все отрицательные значения положительными с помощью метода `abs()`.**"
   ]
  },
  {
   "cell_type": "code",
   "execution_count": 7,
   "id": "ec6f3ac4",
   "metadata": {
    "deletable": false,
    "id": "f6f055bf"
   },
   "outputs": [],
   "source": [
    "data['days_employed'] = data['days_employed'].abs()"
   ]
  },
  {
   "cell_type": "markdown",
   "id": "89660f97",
   "metadata": {
    "deletable": false,
    "editable": false,
    "id": "6107dd2f"
   },
   "source": [
    "**Задание 7. Для каждого типа занятости выведите медианное значение трудового стажа `days_employed` в днях.**"
   ]
  },
  {
   "cell_type": "code",
   "execution_count": 8,
   "id": "2751fd1c",
   "metadata": {
    "deletable": false,
    "id": "85a5faf6",
    "outputId": "801ef80e-522b-4668-f34e-565af7432bcf"
   },
   "outputs": [
    {
     "data": {
      "text/plain": [
       "income_type\n",
       "безработный        366413.652744\n",
       "в декрете            3296.759962\n",
       "госслужащий          2689.368353\n",
       "компаньон            1547.382223\n",
       "пенсионер          365213.306266\n",
       "предприниматель       520.848083\n",
       "сотрудник            1574.202821\n",
       "студент               578.751554\n",
       "Name: days_employed, dtype: float64"
      ]
     },
     "execution_count": 8,
     "metadata": {},
     "output_type": "execute_result"
    }
   ],
   "source": [
    "data.groupby('income_type')['days_employed'].agg('median')"
   ]
  },
  {
   "cell_type": "markdown",
   "id": "1531429d",
   "metadata": {
    "deletable": false,
    "editable": false,
    "id": "38d1a030"
   },
   "source": [
    "У двух типов (безработные и пенсионеры) получатся аномально большие значения. Исправить такие значения сложно, поэтому оставьте их как есть. Тем более этот столбец не понадобится вам для исследования."
   ]
  },
  {
   "cell_type": "markdown",
   "id": "bd89d809",
   "metadata": {
    "deletable": false,
    "editable": false,
    "id": "d8a9f147"
   },
   "source": [
    "**Задание 8. Выведите перечень уникальных значений столбца `children`.**"
   ]
  },
  {
   "cell_type": "code",
   "execution_count": 9,
   "id": "e1cbd4db",
   "metadata": {
    "deletable": false,
    "id": "ef5056eb",
    "outputId": "6975b15c-7f95-4697-d16d-a0c79b657b03"
   },
   "outputs": [
    {
     "data": {
      "text/plain": [
       "array([ 1,  0,  3,  2, -1,  4, 20,  5])"
      ]
     },
     "execution_count": 9,
     "metadata": {},
     "output_type": "execute_result"
    }
   ],
   "source": [
    "data['children'].unique()"
   ]
  },
  {
   "cell_type": "markdown",
   "id": "ff0ab139",
   "metadata": {
    "deletable": false,
    "editable": false,
    "id": "40b9ebf2"
   },
   "source": [
    "**Задание 9. В столбце `children` есть два аномальных значения. Удалите строки, в которых встречаются такие аномальные значения из датафрейма `data`.**"
   ]
  },
  {
   "cell_type": "code",
   "execution_count": 10,
   "id": "a5e41bea",
   "metadata": {
    "deletable": false,
    "id": "3ff9801d"
   },
   "outputs": [],
   "source": [
    "data = data[(data['children'] != -1) & (data['children'] != 20)]"
   ]
  },
  {
   "cell_type": "markdown",
   "id": "7512886c",
   "metadata": {
    "deletable": false,
    "editable": false,
    "id": "bbc4d0ce"
   },
   "source": [
    "**Задание 10. Ещё раз выведите перечень уникальных значений столбца `children`, чтобы убедиться, что артефакты удалены.**"
   ]
  },
  {
   "cell_type": "code",
   "execution_count": 11,
   "id": "a9082796",
   "metadata": {
    "deletable": false,
    "id": "ad4fa8b7",
    "outputId": "b2097101-d49d-44d9-901b-32a65c9463d1"
   },
   "outputs": [
    {
     "data": {
      "text/plain": [
       "array([1, 0, 3, 2, 4, 5])"
      ]
     },
     "execution_count": 11,
     "metadata": {},
     "output_type": "execute_result"
    }
   ],
   "source": [
    "data['children'].unique()"
   ]
  },
  {
   "cell_type": "markdown",
   "id": "b4a4b913",
   "metadata": {
    "deletable": false,
    "editable": false,
    "id": "75440b63"
   },
   "source": [
    "### Удаление пропусков (продолжение)"
   ]
  },
  {
   "cell_type": "markdown",
   "id": "a228489d",
   "metadata": {
    "deletable": false,
    "editable": false,
    "id": "f4ea573f"
   },
   "source": [
    "**Задание 11. Заполните пропуски в столбце `days_employed` медианными значениями по каждого типа занятости `income_type`.**"
   ]
  },
  {
   "cell_type": "code",
   "execution_count": 12,
   "id": "d70b36b0",
   "metadata": {
    "deletable": false,
    "id": "af6b1a7e"
   },
   "outputs": [],
   "source": [
    "for t in data['income_type'].unique():\n",
    "    data.loc[(data['income_type'] == t) & (data['days_employed'].isna()), 'days_employed'] = \\\n",
    "    data.loc[(data['income_type'] == t), 'days_employed'].median()"
   ]
  },
  {
   "cell_type": "markdown",
   "id": "5e993e2b",
   "metadata": {
    "deletable": false,
    "editable": false,
    "id": "2753f40d"
   },
   "source": [
    "**Задание 12. Убедитесь, что все пропуски заполнены. Проверьте себя и ещё раз выведите количество пропущенных значений для каждого столбца с помощью двух методов.**"
   ]
  },
  {
   "cell_type": "code",
   "execution_count": 13,
   "id": "a0faa128",
   "metadata": {
    "deletable": false,
    "id": "55f78bc2",
    "outputId": "8da1e4e1-358e-4e87-98c9-f261bce0a7b2"
   },
   "outputs": [
    {
     "data": {
      "text/plain": [
       "children            0\n",
       "days_employed       0\n",
       "dob_years           0\n",
       "education           0\n",
       "education_id        0\n",
       "family_status       0\n",
       "family_status_id    0\n",
       "gender              0\n",
       "income_type         0\n",
       "debt                0\n",
       "total_income        0\n",
       "purpose             0\n",
       "dtype: int64"
      ]
     },
     "execution_count": 13,
     "metadata": {},
     "output_type": "execute_result"
    }
   ],
   "source": [
    "data.isna().sum()"
   ]
  },
  {
   "cell_type": "markdown",
   "id": "75759853",
   "metadata": {
    "deletable": false,
    "editable": false,
    "id": "ddc81e43"
   },
   "source": [
    "### Изменение типов данных"
   ]
  },
  {
   "cell_type": "markdown",
   "id": "01f154b0",
   "metadata": {
    "deletable": false,
    "editable": false,
    "id": "42d19d24"
   },
   "source": [
    "**Задание 13. Замените вещественный тип данных в столбце `total_income` на целочисленный с помощью метода `astype()`.**"
   ]
  },
  {
   "cell_type": "code",
   "execution_count": 14,
   "id": "c17c1c87",
   "metadata": {
    "deletable": false,
    "id": "920b65ad"
   },
   "outputs": [],
   "source": [
    "data['total_income'] = data['total_income'].astype(int)"
   ]
  },
  {
   "cell_type": "markdown",
   "id": "166c27ac",
   "metadata": {
    "deletable": false,
    "editable": false,
    "id": "80c420ba"
   },
   "source": [
    "### Обработка дубликатов"
   ]
  },
  {
   "cell_type": "markdown",
   "id": "55dfa38c",
   "metadata": {
    "deletable": false,
    "editable": false
   },
   "source": [
    "**Задание 14. Обработайте неявные дубликаты в столбце `education`. В этом столбце есть одни и те же значения, но записанные по-разному: с использованием заглавных и строчных букв. Приведите их к нижнему регистру. Проверьте остальные столбцы.**"
   ]
  },
  {
   "cell_type": "code",
   "execution_count": 15,
   "id": "8e0cf391",
   "metadata": {
    "deletable": false
   },
   "outputs": [],
   "source": [
    "data['education'] = data['education'].str.lower()"
   ]
  },
  {
   "cell_type": "markdown",
   "id": "9ac466e8",
   "metadata": {
    "deletable": false,
    "editable": false,
    "id": "dc587695"
   },
   "source": [
    "**Задание 15. Выведите на экран количество строк-дубликатов в данных. Если такие строки присутствуют, удалите их.**"
   ]
  },
  {
   "cell_type": "code",
   "execution_count": 16,
   "id": "8ef2d5ad",
   "metadata": {
    "deletable": false,
    "id": "3ee445e4",
    "outputId": "9684deba-1934-42d1-99e1-cda61740f822"
   },
   "outputs": [
    {
     "data": {
      "text/plain": [
       "71"
      ]
     },
     "execution_count": 16,
     "metadata": {},
     "output_type": "execute_result"
    }
   ],
   "source": [
    "data.duplicated().sum()"
   ]
  },
  {
   "cell_type": "code",
   "execution_count": 17,
   "id": "5d88ef1b",
   "metadata": {
    "deletable": false,
    "id": "8575fe05"
   },
   "outputs": [],
   "source": [
    "data = data.drop_duplicates()"
   ]
  },
  {
   "cell_type": "markdown",
   "id": "31ac9720",
   "metadata": {
    "deletable": false,
    "editable": false,
    "id": "9904cf55"
   },
   "source": [
    "### Категоризация данных"
   ]
  },
  {
   "cell_type": "markdown",
   "id": "6a41c3cc",
   "metadata": {
    "deletable": false,
    "editable": false,
    "id": "72fcc8a2"
   },
   "source": [
    "**Задание 16. На основании диапазонов, указанных ниже, создайте в датафрейме `data` столбец `total_income_category` с категориями:**\n",
    "\n",
    "- 0–30000 — `'E'`;\n",
    "- 30001–50000 — `'D'`;\n",
    "- 50001–200000 — `'C'`;\n",
    "- 200001–1000000 — `'B'`;\n",
    "- 1000001 и выше — `'A'`.\n",
    "\n",
    "\n",
    "**Например, кредитополучателю с доходом 25000 нужно назначить категорию `'E'`, а клиенту, получающему 235000, — `'B'`. Используйте собственную функцию с именем `categorize_income()` и метод `apply()`.**"
   ]
  },
  {
   "cell_type": "code",
   "execution_count": 18,
   "id": "4aa3c852",
   "metadata": {
    "deletable": false,
    "id": "e1771346"
   },
   "outputs": [],
   "source": [
    "def categorize_income(income):\n",
    "    try:\n",
    "        if 0 <= income <= 30000:\n",
    "            return 'E'\n",
    "        elif 30001 <= income <= 50000:\n",
    "            return 'D'\n",
    "        elif 50001 <= income <= 200000:\n",
    "            return 'C'\n",
    "        elif 200001 <= income <= 1000000:\n",
    "            return 'B'\n",
    "        elif income >= 1000001:\n",
    "            return 'A'\n",
    "    except:\n",
    "        pass"
   ]
  },
  {
   "cell_type": "code",
   "execution_count": 19,
   "id": "e3539d38",
   "metadata": {
    "deletable": false,
    "id": "d5f3586d"
   },
   "outputs": [],
   "source": [
    "data['total_income_category'] = data['total_income'].apply(categorize_income)"
   ]
  },
  {
   "cell_type": "markdown",
   "id": "fb818e57",
   "metadata": {
    "deletable": false,
    "editable": false,
    "id": "dde49b5c"
   },
   "source": [
    "**Задание 17. Выведите на экран перечень уникальных целей взятия кредита из столбца `purpose`.**"
   ]
  },
  {
   "cell_type": "code",
   "execution_count": 20,
   "id": "eb55af75",
   "metadata": {
    "deletable": false,
    "id": "f67ce9b3",
    "outputId": "673c12d9-7d7e-4ae0-9812-c622c89dd244"
   },
   "outputs": [
    {
     "data": {
      "text/plain": [
       "array(['покупка жилья', 'приобретение автомобиля',\n",
       "       'дополнительное образование', 'сыграть свадьбу',\n",
       "       'операции с жильем', 'образование', 'на проведение свадьбы',\n",
       "       'покупка жилья для семьи', 'покупка недвижимости',\n",
       "       'покупка коммерческой недвижимости', 'покупка жилой недвижимости',\n",
       "       'строительство собственной недвижимости', 'недвижимость',\n",
       "       'строительство недвижимости', 'на покупку подержанного автомобиля',\n",
       "       'на покупку своего автомобиля',\n",
       "       'операции с коммерческой недвижимостью',\n",
       "       'строительство жилой недвижимости', 'жилье',\n",
       "       'операции со своей недвижимостью', 'автомобили',\n",
       "       'заняться образованием', 'сделка с подержанным автомобилем',\n",
       "       'получение образования', 'автомобиль', 'свадьба',\n",
       "       'получение дополнительного образования', 'покупка своего жилья',\n",
       "       'операции с недвижимостью', 'получение высшего образования',\n",
       "       'свой автомобиль', 'сделка с автомобилем',\n",
       "       'профильное образование', 'высшее образование',\n",
       "       'покупка жилья для сдачи', 'на покупку автомобиля', 'ремонт жилью',\n",
       "       'заняться высшим образованием'], dtype=object)"
      ]
     },
     "execution_count": 20,
     "metadata": {},
     "output_type": "execute_result"
    }
   ],
   "source": [
    "data['purpose'].unique()"
   ]
  },
  {
   "cell_type": "markdown",
   "id": "1b32a5d6",
   "metadata": {
    "deletable": false,
    "editable": false,
    "id": "85d0aef0"
   },
   "source": [
    "**Задание 18. Создайте функцию, которая на основании данных из столбца `purpose` сформирует новый столбец `purpose_category`, в который войдут следующие категории:**\n",
    "\n",
    "- `'операции с автомобилем'`,\n",
    "- `'операции с недвижимостью'`,\n",
    "- `'проведение свадьбы'`,\n",
    "- `'получение образования'`.\n",
    "\n",
    "**Например, если в столбце `purpose` находится подстрока `'на покупку автомобиля'`, то в столбце `purpose_category` должна появиться строка `'операции с автомобилем'`.**\n",
    "\n",
    "**Используйте собственную функцию с именем `categorize_purpose()` и метод `apply()`. Изучите данные в столбце `purpose` и определите, какие подстроки помогут вам правильно определить категорию.**"
   ]
  },
  {
   "cell_type": "code",
   "execution_count": 21,
   "id": "c589a175",
   "metadata": {
    "deletable": false,
    "id": "e149fab4"
   },
   "outputs": [],
   "source": [
    "def categorize_purpose(row):\n",
    "    try:\n",
    "        if 'автом' in row:\n",
    "            return 'операции с автомобилем'\n",
    "        elif 'жил' in row or 'недвиж' in row:\n",
    "            return 'операции с недвижимостью'\n",
    "        elif 'свад' in row:\n",
    "            return 'проведение свадьбы'\n",
    "        elif 'образов' in row:\n",
    "            return 'получение образования'\n",
    "    except:\n",
    "        return 'нет категории'"
   ]
  },
  {
   "cell_type": "code",
   "execution_count": 22,
   "id": "6f1f6d3b",
   "metadata": {
    "deletable": false,
    "id": "bf36e69b"
   },
   "outputs": [],
   "source": [
    "data['purpose_category'] = data['purpose'].apply(categorize_purpose)"
   ]
  },
  {
   "cell_type": "markdown",
   "id": "9c34a102",
   "metadata": {
    "deletable": false,
    "editable": false,
    "id": "09b242bf"
   },
   "source": [
    "### Шаг 3. Исследуйте данные и ответьте на вопросы"
   ]
  },
  {
   "cell_type": "markdown",
   "id": "78c15dc4",
   "metadata": {
    "deletable": false,
    "editable": false,
    "id": "c5d66278"
   },
   "source": [
    "#### 3.1 Есть ли зависимость между количеством детей и возвратом кредита в срок?"
   ]
  },
  {
   "cell_type": "code",
   "execution_count": 45,
   "id": "35db9609",
   "metadata": {
    "deletable": false,
    "id": "2cacfc4a",
    "scrolled": true
   },
   "outputs": [
    {
     "data": {
      "text/html": [
       "<div>\n",
       "<style scoped>\n",
       "    .dataframe tbody tr th:only-of-type {\n",
       "        vertical-align: middle;\n",
       "    }\n",
       "\n",
       "    .dataframe tbody tr th {\n",
       "        vertical-align: top;\n",
       "    }\n",
       "\n",
       "    .dataframe thead th {\n",
       "        text-align: right;\n",
       "    }\n",
       "</style>\n",
       "<table border=\"1\" class=\"dataframe\">\n",
       "  <thead>\n",
       "    <tr style=\"text-align: right;\">\n",
       "      <th></th>\n",
       "      <th>Заемщики</th>\n",
       "      <th>Должники</th>\n",
       "      <th>Доля должников</th>\n",
       "    </tr>\n",
       "    <tr>\n",
       "      <th>children</th>\n",
       "      <th></th>\n",
       "      <th></th>\n",
       "      <th></th>\n",
       "    </tr>\n",
       "  </thead>\n",
       "  <tbody>\n",
       "    <tr>\n",
       "      <th>4</th>\n",
       "      <td>41</td>\n",
       "      <td>4</td>\n",
       "      <td>0.097561</td>\n",
       "    </tr>\n",
       "    <tr>\n",
       "      <th>2</th>\n",
       "      <td>2052</td>\n",
       "      <td>194</td>\n",
       "      <td>0.094542</td>\n",
       "    </tr>\n",
       "    <tr>\n",
       "      <th>1</th>\n",
       "      <td>4808</td>\n",
       "      <td>444</td>\n",
       "      <td>0.092346</td>\n",
       "    </tr>\n",
       "    <tr>\n",
       "      <th>3</th>\n",
       "      <td>330</td>\n",
       "      <td>27</td>\n",
       "      <td>0.081818</td>\n",
       "    </tr>\n",
       "    <tr>\n",
       "      <th>0</th>\n",
       "      <td>14091</td>\n",
       "      <td>1063</td>\n",
       "      <td>0.075438</td>\n",
       "    </tr>\n",
       "    <tr>\n",
       "      <th>5</th>\n",
       "      <td>9</td>\n",
       "      <td>0</td>\n",
       "      <td>0.000000</td>\n",
       "    </tr>\n",
       "  </tbody>\n",
       "</table>\n",
       "</div>"
      ],
      "text/plain": [
       "          Заемщики  Должники  Доля должников\n",
       "children                                    \n",
       "4               41         4        0.097561\n",
       "2             2052       194        0.094542\n",
       "1             4808       444        0.092346\n",
       "3              330        27        0.081818\n",
       "0            14091      1063        0.075438\n",
       "5                9         0        0.000000"
      ]
     },
     "execution_count": 45,
     "metadata": {},
     "output_type": "execute_result"
    }
   ],
   "source": [
    "children_debts = data.groupby('children')['debt']\\\n",
    "                .agg(['count', 'sum', 'mean'])\\\n",
    "                .sort_values(by='mean', ascending=False)\\\n",
    "                .rename(columns={'count': 'Заемщики', 'sum': 'Должники', 'mean': 'Доля должников'})\n",
    "children_debts"
   ]
  },
  {
   "cell_type": "code",
   "execution_count": 53,
   "id": "7603407a",
   "metadata": {
    "scrolled": false
   },
   "outputs": [
    {
     "data": {
      "image/png": "[encoded data removed]",
      "text/plain": [
       "<Figure size 432x432 with 1 Axes>"
      ]
     },
     "metadata": {
      "needs_background": "light"
     },
     "output_type": "display_data"
    }
   ],
   "source": [
    "import seaborn as sns\n",
    "import matplotlib.pyplot as plt\n",
    "\n",
    "plt.figure(figsize=(6, 6))\n",
    "tmp = children_debts[children_debts.index.isin([1,2,0])]\n",
    "plots = sns.barplot(x=['Два ребенка', 'Один ребенок', 'Нет детей'], y=tmp['Доля должников'])\n",
    "for bar in plots.patches:\n",
    "    plots.annotate(format(bar.get_height(), '.3f'), \n",
    "                   (bar.get_x() + bar.get_width() / 2, \n",
    "                    bar.get_height()), ha='center', va='center', size=13,\n",
    "                   xytext=(0, 7), textcoords='offset points')\n",
    "plt.title('Доля должников в зависимости от количества детей в семье')\n",
    "plt.show()"
   ]
  },
  {
   "cell_type": "markdown",
   "id": "9c49eb2f",
   "metadata": {
    "deletable": false,
    "id": "3a6b99ec"
   },
   "source": [
    "**Вывод:** В данном случае верно не учитывать семьи с 3я, 4я и 5ю детьми, так как количество заемщиков среди них мало по сравнению с другими, значит, эти данные не показательны. Тогда очевидно, что количество детей в семье влияет на платежную дисциплину заемщика. Чем меньше детей в семье, тем выше вероятность своевременной выплаты платежа. Бездетные семьи имеют меньше всего просрочек, видимо, из-за меньшего количества незапланированных затрат."
   ]
  },
  {
   "cell_type": "markdown",
   "id": "e5b13c03",
   "metadata": {},
   "source": [
    "<div class=\"alert-success\"> \n",
    "<b>Комментарий ревьюера 👍 </b>\n",
    "\n",
    "Молодец, что отметила, что некоторые категории лучше не рассматривать из-за маленького кол-ва данных. Можно определить зависимость, сравнивая только самые многочисленные категории с 0, 1 и 2 детьми."
   ]
  },
  {
   "cell_type": "markdown",
   "id": "2a97221d",
   "metadata": {
    "deletable": false,
    "editable": false,
    "id": "97be82ca"
   },
   "source": [
    "#### 3.2 Есть ли зависимость между семейным положением и возвратом кредита в срок?"
   ]
  },
  {
   "cell_type": "code",
   "execution_count": 47,
   "id": "e79b8094",
   "metadata": {
    "deletable": false,
    "id": "dc3f7ee8"
   },
   "outputs": [
    {
     "data": {
      "text/html": [
       "<div>\n",
       "<style scoped>\n",
       "    .dataframe tbody tr th:only-of-type {\n",
       "        vertical-align: middle;\n",
       "    }\n",
       "\n",
       "    .dataframe tbody tr th {\n",
       "        vertical-align: top;\n",
       "    }\n",
       "\n",
       "    .dataframe thead th {\n",
       "        text-align: right;\n",
       "    }\n",
       "</style>\n",
       "<table border=\"1\" class=\"dataframe\">\n",
       "  <thead>\n",
       "    <tr style=\"text-align: right;\">\n",
       "      <th></th>\n",
       "      <th>Заемщики</th>\n",
       "      <th>Должники</th>\n",
       "      <th>Доля должников</th>\n",
       "    </tr>\n",
       "    <tr>\n",
       "      <th>family_status</th>\n",
       "      <th></th>\n",
       "      <th></th>\n",
       "      <th></th>\n",
       "    </tr>\n",
       "  </thead>\n",
       "  <tbody>\n",
       "    <tr>\n",
       "      <th>Не женат / не замужем</th>\n",
       "      <td>2796</td>\n",
       "      <td>273</td>\n",
       "      <td>0.097639</td>\n",
       "    </tr>\n",
       "    <tr>\n",
       "      <th>гражданский брак</th>\n",
       "      <td>4134</td>\n",
       "      <td>385</td>\n",
       "      <td>0.093130</td>\n",
       "    </tr>\n",
       "    <tr>\n",
       "      <th>женат / замужем</th>\n",
       "      <td>12261</td>\n",
       "      <td>927</td>\n",
       "      <td>0.075606</td>\n",
       "    </tr>\n",
       "    <tr>\n",
       "      <th>в разводе</th>\n",
       "      <td>1189</td>\n",
       "      <td>84</td>\n",
       "      <td>0.070648</td>\n",
       "    </tr>\n",
       "    <tr>\n",
       "      <th>вдовец / вдова</th>\n",
       "      <td>951</td>\n",
       "      <td>63</td>\n",
       "      <td>0.066246</td>\n",
       "    </tr>\n",
       "  </tbody>\n",
       "</table>\n",
       "</div>"
      ],
      "text/plain": [
       "                       Заемщики  Должники  Доля должников\n",
       "family_status                                            \n",
       "Не женат / не замужем      2796       273        0.097639\n",
       "гражданский брак           4134       385        0.093130\n",
       "женат / замужем           12261       927        0.075606\n",
       "в разводе                  1189        84        0.070648\n",
       "вдовец / вдова              951        63        0.066246"
      ]
     },
     "execution_count": 47,
     "metadata": {},
     "output_type": "execute_result"
    }
   ],
   "source": [
    "family_status_debts = data.groupby('family_status')['debt']\\\n",
    "                      .agg(['count', 'sum', 'mean'])\\\n",
    "                      .sort_values(by='mean', ascending=False)\\\n",
    "                      .rename(columns={'count': 'Заемщики', 'sum': 'Должники', 'mean': 'Доля должников'})\n",
    "family_status_debts"
   ]
  },
  {
   "cell_type": "code",
   "execution_count": 48,
   "id": "ee2504c0",
   "metadata": {},
   "outputs": [
    {
     "data": {
      "image/png": "[encoded data removed]",
      "text/plain": [
       "<Figure size 792x432 with 1 Axes>"
      ]
     },
     "metadata": {
      "needs_background": "light"
     },
     "output_type": "display_data"
    }
   ],
   "source": [
    "plt.figure(figsize=(11, 6))\n",
    "plots = sns.barplot(x=family_status_debts.index, y=family_status_debts['Доля должников'])\n",
    "for bar in plots.patches:\n",
    "    plots.annotate(format(bar.get_height(), '.3f'), \n",
    "                   (bar.get_x() + bar.get_width() / 2, \n",
    "                    bar.get_height()), ha='center', va='center', size=13,\n",
    "                   xytext=(0, 7), textcoords='offset points')\n",
    "plt.title('Доля должников в зависимости от семейного статуса')\n",
    "plt.show()"
   ]
  },
  {
   "cell_type": "markdown",
   "id": "4f66b4ec",
   "metadata": {
    "deletable": false,
    "id": "1cef7837"
   },
   "source": [
    "**Вывод:** Заемщики, не состоящие в официальном браке(не женат/не замужем или гражданский брак), безответственно подходят к выплате платежей по кредитам по сравнению с заемщики, которые пережили официальный брак. Заемщики, женатые/замужние, пережившие развод или смерть близкого человека, чаще являются более ответственными, возможно, так как эти люди чаще считаются более зрелыми и, кроме того, официальный брак дисциплинирует. "
   ]
  },
  {
   "cell_type": "markdown",
   "id": "e7765ea5",
   "metadata": {},
   "source": [
    "<div class=\"alert-success\"> \n",
    "<b>Комментарий ревьюера 👍</b>\n",
    "\n",
    "Здорово, что не забываешь про промежуточные выводы"
   ]
  },
  {
   "cell_type": "markdown",
   "id": "e891b43a",
   "metadata": {
    "deletable": false,
    "editable": false,
    "id": "1e8b2fca"
   },
   "source": [
    "#### 3.3 Есть ли зависимость между уровнем дохода и возвратом кредита в срок?"
   ]
  },
  {
   "cell_type": "code",
   "execution_count": 49,
   "id": "25b4a8d3",
   "metadata": {
    "deletable": false,
    "id": "cd7e3720"
   },
   "outputs": [
    {
     "data": {
      "text/html": [
       "<div>\n",
       "<style scoped>\n",
       "    .dataframe tbody tr th:only-of-type {\n",
       "        vertical-align: middle;\n",
       "    }\n",
       "\n",
       "    .dataframe tbody tr th {\n",
       "        vertical-align: top;\n",
       "    }\n",
       "\n",
       "    .dataframe thead th {\n",
       "        text-align: right;\n",
       "    }\n",
       "</style>\n",
       "<table border=\"1\" class=\"dataframe\">\n",
       "  <thead>\n",
       "    <tr style=\"text-align: right;\">\n",
       "      <th></th>\n",
       "      <th>Заемщики</th>\n",
       "      <th>Должники</th>\n",
       "      <th>Доля должников</th>\n",
       "    </tr>\n",
       "    <tr>\n",
       "      <th>total_income_category</th>\n",
       "      <th></th>\n",
       "      <th></th>\n",
       "      <th></th>\n",
       "    </tr>\n",
       "  </thead>\n",
       "  <tbody>\n",
       "    <tr>\n",
       "      <th>E</th>\n",
       "      <td>22</td>\n",
       "      <td>2</td>\n",
       "      <td>0.090909</td>\n",
       "    </tr>\n",
       "    <tr>\n",
       "      <th>C</th>\n",
       "      <td>15921</td>\n",
       "      <td>1353</td>\n",
       "      <td>0.084982</td>\n",
       "    </tr>\n",
       "    <tr>\n",
       "      <th>A</th>\n",
       "      <td>25</td>\n",
       "      <td>2</td>\n",
       "      <td>0.080000</td>\n",
       "    </tr>\n",
       "    <tr>\n",
       "      <th>B</th>\n",
       "      <td>5014</td>\n",
       "      <td>354</td>\n",
       "      <td>0.070602</td>\n",
       "    </tr>\n",
       "    <tr>\n",
       "      <th>D</th>\n",
       "      <td>349</td>\n",
       "      <td>21</td>\n",
       "      <td>0.060172</td>\n",
       "    </tr>\n",
       "  </tbody>\n",
       "</table>\n",
       "</div>"
      ],
      "text/plain": [
       "                       Заемщики  Должники  Доля должников\n",
       "total_income_category                                    \n",
       "E                            22         2        0.090909\n",
       "C                         15921      1353        0.084982\n",
       "A                            25         2        0.080000\n",
       "B                          5014       354        0.070602\n",
       "D                           349        21        0.060172"
      ]
     },
     "execution_count": 49,
     "metadata": {},
     "output_type": "execute_result"
    }
   ],
   "source": [
    "income_debts = data.groupby('total_income_category')['debt']\\\n",
    "               .agg(['count', 'sum', 'mean'])\\\n",
    "               .sort_values(by='mean', ascending=False)\\\n",
    "               .rename(columns={'count': 'Заемщики', 'sum': 'Должники', 'mean': 'Доля должников'})\n",
    "income_debts"
   ]
  },
  {
   "cell_type": "code",
   "execution_count": 50,
   "id": "48b5ffd9",
   "metadata": {},
   "outputs": [
    {
     "data": {
      "image/png": "[encoded data removed]",
      "text/plain": [
       "<Figure size 432x432 with 1 Axes>"
      ]
     },
     "metadata": {
      "needs_background": "light"
     },
     "output_type": "display_data"
    }
   ],
   "source": [
    "plt.figure(figsize=(6, 6))\n",
    "tmp = income_debts[income_debts.index.isin(['B', 'C'])]\n",
    "plots = sns.barplot(x=['Категория В', 'Категория С'], y=tmp['Доля должников'])\n",
    "for bar in plots.patches:\n",
    "    plots.annotate(format(bar.get_height(), '.3f'), \n",
    "                   (bar.get_x() + bar.get_width() / 2, \n",
    "                    bar.get_height()), ha='center', va='center', size=13,\n",
    "                   xytext=(0, 7), textcoords='offset points')\n",
    "plt.title('Доля должников в зависимости от зарплатной категории')\n",
    "plt.show()"
   ]
  },
  {
   "cell_type": "markdown",
   "id": "d4bc75f3",
   "metadata": {
    "deletable": false,
    "id": "e8593def"
   },
   "source": [
    "**Вывод:** Категории А, Е и D не показетельны. Заемщики категории В (зарплата от 200К) реже допускают просрооченные платежи, по сравнению с представителями категории С (зарплата от 50К). Возможно, из-за наличия большего количества денежных средств, а также более выгодных условий кредитований(так как они зависят от официальной зарплаты)."
   ]
  },
  {
   "cell_type": "markdown",
   "id": "50ad019a",
   "metadata": {},
   "source": [
    "<div class=\"alert-success\"> \n",
    "<b>Комментарий ревьюера 👍</b>\n",
    "\n",
    "Тут тоже верное замечание про маленький размер категорий. Также хвалю за улучшение оформление табличек, это улучшает восприятие"
   ]
  },
  {
   "cell_type": "markdown",
   "id": "170b461e",
   "metadata": {
    "deletable": false,
    "editable": false,
    "id": "99ecbd1f"
   },
   "source": [
    "#### 3.4 Как разные цели кредита влияют на его возврат в срок?"
   ]
  },
  {
   "cell_type": "code",
   "execution_count": 43,
   "id": "e54fa2f7",
   "metadata": {
    "deletable": false,
    "id": "2b687290"
   },
   "outputs": [
    {
     "data": {
      "text/html": [
       "<div>\n",
       "<style scoped>\n",
       "    .dataframe tbody tr th:only-of-type {\n",
       "        vertical-align: middle;\n",
       "    }\n",
       "\n",
       "    .dataframe tbody tr th {\n",
       "        vertical-align: top;\n",
       "    }\n",
       "\n",
       "    .dataframe thead th {\n",
       "        text-align: right;\n",
       "    }\n",
       "</style>\n",
       "<table border=\"1\" class=\"dataframe\">\n",
       "  <thead>\n",
       "    <tr style=\"text-align: right;\">\n",
       "      <th></th>\n",
       "      <th>Заемщики</th>\n",
       "      <th>Должники</th>\n",
       "      <th>Доля должников</th>\n",
       "    </tr>\n",
       "    <tr>\n",
       "      <th>purpose_category</th>\n",
       "      <th></th>\n",
       "      <th></th>\n",
       "      <th></th>\n",
       "    </tr>\n",
       "  </thead>\n",
       "  <tbody>\n",
       "    <tr>\n",
       "      <th>операции с автомобилем</th>\n",
       "      <td>4279</td>\n",
       "      <td>400</td>\n",
       "      <td>0.093480</td>\n",
       "    </tr>\n",
       "    <tr>\n",
       "      <th>получение образования</th>\n",
       "      <td>3988</td>\n",
       "      <td>369</td>\n",
       "      <td>0.092528</td>\n",
       "    </tr>\n",
       "    <tr>\n",
       "      <th>проведение свадьбы</th>\n",
       "      <td>2313</td>\n",
       "      <td>183</td>\n",
       "      <td>0.079118</td>\n",
       "    </tr>\n",
       "    <tr>\n",
       "      <th>операции с недвижимостью</th>\n",
       "      <td>10751</td>\n",
       "      <td>780</td>\n",
       "      <td>0.072551</td>\n",
       "    </tr>\n",
       "  </tbody>\n",
       "</table>\n",
       "</div>"
      ],
      "text/plain": [
       "                          Заемщики  Должники  Доля должников\n",
       "purpose_category                                            \n",
       "операции с автомобилем        4279       400        0.093480\n",
       "получение образования         3988       369        0.092528\n",
       "проведение свадьбы            2313       183        0.079118\n",
       "операции с недвижимостью     10751       780        0.072551"
      ]
     },
     "execution_count": 43,
     "metadata": {},
     "output_type": "execute_result"
    }
   ],
   "source": [
    "purpose_debts = data.groupby('purpose_category')['debt']\\\n",
    "                .agg(['count', 'sum', 'mean'])\\\n",
    "                .sort_values(by='mean', ascending=False)\\\n",
    "                .rename(columns={'count': 'Заемщики', 'sum': 'Должники', 'mean': 'Доля должников'})\n",
    "purpose_debts"
   ]
  },
  {
   "cell_type": "code",
   "execution_count": 44,
   "id": "c4bf5072",
   "metadata": {},
   "outputs": [
    {
     "data": {
      "image/png": "[encoded data removed]",
      "text/plain": [
       "<Figure size 792x432 with 1 Axes>"
      ]
     },
     "metadata": {
      "needs_background": "light"
     },
     "output_type": "display_data"
    }
   ],
   "source": [
    "plt.figure(figsize=(11, 6))\n",
    "plots = sns.barplot(x=purpose_debts.index, y=purpose_debts['Доля должников'])\n",
    "for bar in plots.patches:\n",
    "    plots.annotate(format(bar.get_height(), '.4f'), \n",
    "                   (bar.get_x() + bar.get_width() / 2, \n",
    "                    bar.get_height()), ha='center', va='center', size=13,\n",
    "                   xytext=(0, 7), textcoords='offset points')\n",
    "plt.title('Доля должников в зависимости от цели взятия кредита')\n",
    "plt.show()"
   ]
  },
  {
   "cell_type": "markdown",
   "id": "4fa43478",
   "metadata": {
    "deletable": false,
    "id": "b4bb2ce6"
   },
   "source": [
    "**Вывод:** Автомобилисты и студенты являются самыми ненадежными заемщиками. Вероятно, из-за того, что первые часто не учитывают дополнительные расходы при покупке автомобиля (ТО, ОСАГО, топливо и тд), а вторые зачастую не имеют стабильного заработка. Замужние/женатые представители более ответственны, следовательно, выплачивают кредит на свадьбу вовремя. Операции с недвижимостью обладают большим приоритетом, так как если не выплатить ипотечный кредит, велика вероятность остаться без крыши над головой. "
   ]
  },
  {
   "cell_type": "markdown",
   "id": "d10c0aef",
   "metadata": {},
   "source": [
    "<div class=\"alert-success\"> \n",
    "<b>Комментарий ревьюера 👍</b>\n",
    "\n",
    "Хорошие сводные таблицы в целом в проекте\n",
    "\n",
    "Можно попробовать забежать вперед и добавить визуализацию к каждому пункту"
   ]
  },
  {
   "cell_type": "markdown",
   "id": "38488a1c",
   "metadata": {
    "deletable": false,
    "editable": false,
    "id": "09c3ac4c"
   },
   "source": [
    "#### 3.5 Приведите возможные причины появления пропусков в исходных данных."
   ]
  },
  {
   "cell_type": "markdown",
   "id": "1850bf19",
   "metadata": {
    "deletable": false,
    "id": "9da2ceda"
   },
   "source": [
    "*Ответ:* Пропуски могут быть технологическими(ошибка при считываании, сбой при записи, неккоректная смена формата) или вызанными человеческим фактором(неккоректный ввод данных, утаивание информации, фрод)."
   ]
  },
  {
   "cell_type": "markdown",
   "id": "e83e4fd2",
   "metadata": {},
   "source": [
    "<div class=\"alert-success\"> \n",
    "<b>Комментарий ревьюера 👍</b>\n",
    "\n",
    "Согласен с названными тобою возможными причинами пропусков"
   ]
  },
  {
   "cell_type": "markdown",
   "id": "ab605887",
   "metadata": {
    "deletable": false,
    "editable": false,
    "id": "7b0487d6"
   },
   "source": [
    "#### 3.6 Объясните, почему заполнить пропуски медианным значением — лучшее решение для количественных переменных."
   ]
  },
  {
   "cell_type": "markdown",
   "id": "312d7443",
   "metadata": {
    "deletable": false,
    "id": "7ecf2b8e"
   },
   "source": [
    "*Ответ:* Медиана устойчива к выбросам, т.е. учитывает разброс данных. Среднее арифметическое, в свою очередь, учитывает выраженность значений, поэтому подвержена влиянию выбросов."
   ]
  },
  {
   "cell_type": "markdown",
   "id": "a4913309",
   "metadata": {},
   "source": [
    "<div class=\"alert-success\"> \n",
    "<b>Комментарий ревьюера 👍 </b>\n",
    "    \n",
    "Верно, дело именно в том, что среднее сильно реагирует на выбросы, тем самым искажая наши данные, в отличие от медианы"
   ]
  },
  {
   "cell_type": "markdown",
   "id": "e768c10b",
   "metadata": {
    "deletable": false,
    "editable": false,
    "id": "6db5255a"
   },
   "source": [
    "### Шаг 4: общий вывод."
   ]
  },
  {
   "cell_type": "markdown",
   "id": "09bbe38f",
   "metadata": {},
   "source": [
    "Информация о данных: в датасете представлена информация по каждому клиенту банка (количество детей, образование, семейный статус, пол, цель кредита, зарплата и т.д.) <br> <br> Проделанная работа:<br> 1. Удалены пропуски и выбросы в данных; <br> 2. Добавлена категоризация зарплаты и цели кредита;<br> 3. Построены 4 сводные таблицы для подсчета доли должников по каждому рассматриваемому признаку (количество детей, семейное положение, уровень дохода, цель взятия кредита);<br> 4. Добавлена визуализация."
   ]
  },
  {
   "cell_type": "markdown",
   "id": "3e6f8cf5",
   "metadata": {
    "deletable": false,
    "id": "bad65432"
   },
   "source": [
    "Итоги 4х исследований: <br> 1. По количеству детей: <br> Надежный: бездетный (7.5%). Ненадежный: 2 ребенка(9.5%) <br> 2. По семейному положению: <br> Надежный: вдова/вдовец(6.6%) или в разводе (7%). <br> Ненадежный: Не женат/не замужем (9.7%) <br> 3. По уровню дохода: <br> Надежный: категория В (от 200К) (7%). <br> Ненадежный: категория С (от 50К) (8.5%) <br> 4. По цели взятия кредита: <br> Надежный: операция с недвижимостью (7.3%). <br> Ненадежный: операции с автомобилем. <br> <br> Лучший заемщик: бездетный/ая, вдовец/вдова, зарплата - категория В(от 200К), цель использования денежных средств - операции с недвижимостью. <br> Худший заемщик: 2 ребенка, не женат/не замужем, зарплата - категория С(от 50К), цель использования денежных средств - операции с автомобилем."
   ]
  },
  {
   "cell_type": "markdown",
   "id": "3a1866c0",
   "metadata": {},
   "source": [
    "Рекомендации заказчику: <br> Согласно статистике, следует одобрять большие кредиты заемщикам со следующими характеристиками: бездетный/ая, вдовец/вдова (или в разводе, или женат/замужем), зарплата - категория В, цель - операции с недвижимостью (или проведение свадьбы). <br> <br> В остальных случаях вероятность невыполненыя финансовых обязательств со стороны заемщиков возрастает. Следует допускать кредитование только в малых размерах следующих клиентов: 1 (или 2) ребенка, не женат/не замужем (или гражданский брак), зарплата - категория С, цель - операции с автомобилем (или получение образования). "
   ]
  },
  {
   "cell_type": "markdown",
   "id": "44160b33",
   "metadata": {},
   "source": [
    "<div class=\"alert-warning\"> \n",
    "<b>Комментарий ревьюера 💡</b> \n",
    "    \n",
    "В вывод можно добавить информацию о данных с которыми была проведена работа, что было сделано тобою в проекте, построены сводные таблицы и т.д. Также можно добавить непосредственно рекомендации заказчику. Заказчик, зачастую, читает только общий вывод исследования - поэтому он должен быть максимально информативным и иметь итоги и рекомендации"
   ]
  },
  {
   "cell_type": "markdown",
   "id": "bea38c16",
   "metadata": {},
   "source": [
    "<div class=\"alert-success\"> \n",
    "<b>Комментарий ревьюера 👍 Вторая итерация </b>\n",
    "\n",
    "Вывод стал информативнее и подробнее"
   ]
  },
  {
   "cell_type": "markdown",
   "id": "5c94ceac",
   "metadata": {},
   "source": [
    "<div class=\"alert-warning\"> \n",
    "<b>Комментарий ревьюера 💡</b> \n",
    "    \n",
    "Отличный проект, тобою проделана большая работа, ты молодец!\n",
    "\n",
    "Сперва похвалю за наличие везде промежуточных выводов, комментариев. Показываешь хорошие навыки владения инструментами Питона, сводными таблицами, group by. Даны верные ответы на поставленные вопросы.\n",
    "    \n",
    "Готов принять проект и так, потому что не было критических ошибок. Можешь отправлять проект без доработок, но если хочешь - можешь исправить желтые комментарии/задать свои вопросы по моим комментариям, проекту, DS в целом. Можешь еще попробовать добавить визуализацию в проект (но это по желанию). По визуализации могу посоветовать следующие материалы: 1. https://github.com/esokolov/ml-course-hse/blob/master/2022-fall/seminars/sem02-charts.ipynb 2. https://github.com/Palladain/Deep_Python/blob/main/Lectures/Lecture_3/Lecture_3_Python.ipynb\n",
    "\n",
    "Удачи!"
   ]
  },
  {
   "cell_type": "markdown",
   "id": "4e37bd62",
   "metadata": {},
   "source": [
    "<div class=\"alert-success\"> \n",
    "<b>Комментарий ревьюера 👍 Вторая итерация </b>\n",
    "\n",
    "Принимаю проект, успехов в дальнейшей учебе!"
   ]
  }
 ],
 "metadata": {
  "ExecuteTimeLog": [
   {
    "duration": 47,
    "start_time": "2024-01-12T11:07:51.204Z"
   },
   {
    "duration": 451,
    "start_time": "2024-01-12T11:08:02.609Z"
   },
   {
    "duration": 21,
    "start_time": "2024-01-12T11:08:03.356Z"
   },
   {
    "duration": 15,
    "start_time": "2024-01-12T11:08:03.773Z"
   },
   {
    "duration": 10,
    "start_time": "2024-01-12T11:08:04.561Z"
   },
   {
    "duration": 34,
    "start_time": "2024-01-12T11:08:05.289Z"
   },
   {
    "duration": 3,
    "start_time": "2024-01-12T11:08:05.564Z"
   },
   {
    "duration": 8,
    "start_time": "2024-01-12T11:08:05.976Z"
   },
   {
    "duration": 4,
    "start_time": "2024-01-12T11:08:06.582Z"
   },
   {
    "duration": 6,
    "start_time": "2024-01-12T11:08:06.992Z"
   },
   {
    "duration": 4,
    "start_time": "2024-01-12T11:08:07.433Z"
   },
   {
    "duration": 34,
    "start_time": "2024-01-12T11:08:08.350Z"
   },
   {
    "duration": 10,
    "start_time": "2024-01-12T11:08:08.889Z"
   },
   {
    "duration": 4,
    "start_time": "2024-01-12T11:08:09.908Z"
   },
   {
    "duration": 12,
    "start_time": "2024-01-12T11:08:11.082Z"
   },
   {
    "duration": 18,
    "start_time": "2024-01-12T11:08:11.786Z"
   },
   {
    "duration": 17,
    "start_time": "2024-01-12T11:08:12.241Z"
   },
   {
    "duration": 3,
    "start_time": "2024-01-12T11:08:13.636Z"
   },
   {
    "duration": 11,
    "start_time": "2024-01-12T11:08:14.381Z"
   },
   {
    "duration": 7,
    "start_time": "2024-01-12T11:08:15.205Z"
   },
   {
    "duration": 4,
    "start_time": "2024-01-12T11:08:16.273Z"
   },
   {
    "duration": 8,
    "start_time": "2024-01-12T11:08:16.704Z"
   },
   {
    "duration": 33,
    "start_time": "2024-01-12T11:08:18.670Z"
   },
   {
    "duration": 9,
    "start_time": "2024-01-12T11:08:57.813Z"
   },
   {
    "duration": 12,
    "start_time": "2024-01-12T11:09:06.714Z"
   },
   {
    "duration": 10,
    "start_time": "2024-01-12T11:10:18.459Z"
   },
   {
    "duration": 13,
    "start_time": "2024-01-12T11:14:12.361Z"
   },
   {
    "duration": 14,
    "start_time": "2024-01-12T11:18:32.036Z"
   },
   {
    "duration": 21,
    "start_time": "2024-01-12T11:18:58.790Z"
   },
   {
    "duration": 14,
    "start_time": "2024-01-12T11:19:31.741Z"
   },
   {
    "duration": 15,
    "start_time": "2024-01-12T11:19:57.329Z"
   },
   {
    "duration": 14,
    "start_time": "2024-01-12T11:20:47.772Z"
   },
   {
    "duration": 21,
    "start_time": "2024-01-12T11:21:01.849Z"
   },
   {
    "duration": 15,
    "start_time": "2024-01-12T11:21:17.085Z"
   },
   {
    "duration": 46,
    "start_time": "2024-01-12T17:04:48.800Z"
   },
   {
    "duration": 475,
    "start_time": "2024-01-12T17:04:53.311Z"
   },
   {
    "duration": 21,
    "start_time": "2024-01-12T17:04:53.788Z"
   },
   {
    "duration": 15,
    "start_time": "2024-01-12T17:04:53.810Z"
   },
   {
    "duration": 10,
    "start_time": "2024-01-12T17:04:53.827Z"
   },
   {
    "duration": 43,
    "start_time": "2024-01-12T17:04:53.838Z"
   },
   {
    "duration": 3,
    "start_time": "2024-01-12T17:04:53.883Z"
   },
   {
    "duration": 10,
    "start_time": "2024-01-12T17:04:53.887Z"
   },
   {
    "duration": 3,
    "start_time": "2024-01-12T17:04:53.899Z"
   },
   {
    "duration": 8,
    "start_time": "2024-01-12T17:04:53.903Z"
   },
   {
    "duration": 20,
    "start_time": "2024-01-12T17:04:53.913Z"
   },
   {
    "duration": 49,
    "start_time": "2024-01-12T17:04:53.935Z"
   },
   {
    "duration": 10,
    "start_time": "2024-01-12T17:04:53.986Z"
   },
   {
    "duration": 9,
    "start_time": "2024-01-12T17:04:53.997Z"
   },
   {
    "duration": 14,
    "start_time": "2024-01-12T17:04:54.007Z"
   },
   {
    "duration": 27,
    "start_time": "2024-01-12T17:04:54.022Z"
   },
   {
    "duration": 19,
    "start_time": "2024-01-12T17:04:54.050Z"
   },
   {
    "duration": 3,
    "start_time": "2024-01-12T17:04:54.071Z"
   },
   {
    "duration": 14,
    "start_time": "2024-01-12T17:04:54.075Z"
   },
   {
    "duration": 9,
    "start_time": "2024-01-12T17:04:54.090Z"
   },
   {
    "duration": 5,
    "start_time": "2024-01-12T17:04:54.100Z"
   },
   {
    "duration": 30,
    "start_time": "2024-01-12T17:04:54.106Z"
   },
   {
    "duration": 13,
    "start_time": "2024-01-12T17:04:54.137Z"
   },
   {
    "duration": 13,
    "start_time": "2024-01-12T17:04:54.151Z"
   },
   {
    "duration": 12,
    "start_time": "2024-01-12T17:04:54.166Z"
   },
   {
    "duration": 12,
    "start_time": "2024-01-12T17:04:54.179Z"
   },
   {
    "duration": 12,
    "start_time": "2024-01-12T17:05:42.203Z"
   },
   {
    "duration": 11,
    "start_time": "2024-01-12T17:06:00.896Z"
   },
   {
    "duration": 13,
    "start_time": "2024-01-12T17:17:58.637Z"
   },
   {
    "duration": 14,
    "start_time": "2024-01-12T17:31:38.875Z"
   },
   {
    "duration": 13,
    "start_time": "2024-01-12T17:33:04.306Z"
   },
   {
    "duration": 12,
    "start_time": "2024-01-12T17:33:36.981Z"
   },
   {
    "duration": 11,
    "start_time": "2024-01-12T17:34:09.950Z"
   },
   {
    "duration": 13,
    "start_time": "2024-01-12T17:45:23.061Z"
   },
   {
    "duration": 12,
    "start_time": "2024-01-12T17:45:55.143Z"
   },
   {
    "duration": 453,
    "start_time": "2024-01-13T15:23:13.342Z"
   },
   {
    "duration": 27,
    "start_time": "2024-01-13T15:23:13.797Z"
   },
   {
    "duration": 41,
    "start_time": "2024-01-13T15:23:13.826Z"
   },
   {
    "duration": 18,
    "start_time": "2024-01-13T15:23:13.870Z"
   },
   {
    "duration": 64,
    "start_time": "2024-01-13T15:23:13.890Z"
   },
   {
    "duration": 3,
    "start_time": "2024-01-13T15:23:13.956Z"
   },
   {
    "duration": 25,
    "start_time": "2024-01-13T15:23:13.961Z"
   },
   {
    "duration": 11,
    "start_time": "2024-01-13T15:23:13.988Z"
   },
   {
    "duration": 45,
    "start_time": "2024-01-13T15:23:14.001Z"
   },
   {
    "duration": 20,
    "start_time": "2024-01-13T15:23:14.048Z"
   },
   {
    "duration": 47,
    "start_time": "2024-01-13T15:23:14.070Z"
   },
   {
    "duration": 10,
    "start_time": "2024-01-13T15:23:14.119Z"
   },
   {
    "duration": 12,
    "start_time": "2024-01-13T15:23:14.131Z"
   },
   {
    "duration": 42,
    "start_time": "2024-01-13T15:23:14.145Z"
   },
   {
    "duration": 42,
    "start_time": "2024-01-13T15:23:14.188Z"
   },
   {
    "duration": 27,
    "start_time": "2024-01-13T15:23:14.232Z"
   },
   {
    "duration": 23,
    "start_time": "2024-01-13T15:23:14.261Z"
   },
   {
    "duration": 12,
    "start_time": "2024-01-13T15:23:14.285Z"
   },
   {
    "duration": 14,
    "start_time": "2024-01-13T15:23:14.299Z"
   },
   {
    "duration": 12,
    "start_time": "2024-01-13T15:23:14.314Z"
   },
   {
    "duration": 22,
    "start_time": "2024-01-13T15:23:14.328Z"
   },
   {
    "duration": 43,
    "start_time": "2024-01-13T15:23:14.352Z"
   },
   {
    "duration": 34,
    "start_time": "2024-01-13T15:23:14.396Z"
   },
   {
    "duration": 29,
    "start_time": "2024-01-13T15:23:14.432Z"
   },
   {
    "duration": 32,
    "start_time": "2024-01-13T15:23:14.462Z"
   },
   {
    "duration": 702,
    "start_time": "2024-01-22T19:51:46.305Z"
   },
   {
    "duration": 492,
    "start_time": "2024-01-22T19:51:56.243Z"
   },
   {
    "duration": 19,
    "start_time": "2024-01-22T19:51:56.737Z"
   },
   {
    "duration": 17,
    "start_time": "2024-01-22T19:51:56.757Z"
   },
   {
    "duration": 10,
    "start_time": "2024-01-22T19:51:56.776Z"
   },
   {
    "duration": 49,
    "start_time": "2024-01-22T19:51:56.788Z"
   },
   {
    "duration": 3,
    "start_time": "2024-01-22T19:51:56.839Z"
   },
   {
    "duration": 10,
    "start_time": "2024-01-22T19:51:56.844Z"
   },
   {
    "duration": 4,
    "start_time": "2024-01-22T19:51:56.855Z"
   },
   {
    "duration": 24,
    "start_time": "2024-01-22T19:51:56.860Z"
   },
   {
    "duration": 5,
    "start_time": "2024-01-22T19:51:56.887Z"
   },
   {
    "duration": 42,
    "start_time": "2024-01-22T19:51:56.893Z"
   },
   {
    "duration": 9,
    "start_time": "2024-01-22T19:51:56.937Z"
   },
   {
    "duration": 19,
    "start_time": "2024-01-22T19:51:56.947Z"
   },
   {
    "duration": 13,
    "start_time": "2024-01-22T19:51:56.967Z"
   },
   {
    "duration": 22,
    "start_time": "2024-01-22T19:51:56.981Z"
   },
   {
    "duration": 21,
    "start_time": "2024-01-22T19:51:57.004Z"
   },
   {
    "duration": 4,
    "start_time": "2024-01-22T19:51:57.026Z"
   },
   {
    "duration": 20,
    "start_time": "2024-01-22T19:51:57.031Z"
   },
   {
    "duration": 18,
    "start_time": "2024-01-22T19:51:57.052Z"
   },
   {
    "duration": 18,
    "start_time": "2024-01-22T19:51:57.071Z"
   },
   {
    "duration": 10,
    "start_time": "2024-01-22T19:51:57.091Z"
   },
   {
    "duration": 18,
    "start_time": "2024-01-22T19:51:57.102Z"
   },
   {
    "duration": 1486,
    "start_time": "2024-01-22T19:51:57.121Z"
   },
   {
    "duration": 0,
    "start_time": "2024-01-22T19:51:58.608Z"
   },
   {
    "duration": 0,
    "start_time": "2024-01-22T19:51:58.610Z"
   },
   {
    "duration": 0,
    "start_time": "2024-01-22T19:51:58.612Z"
   },
   {
    "duration": 12,
    "start_time": "2024-01-22T19:52:18.738Z"
   },
   {
    "duration": 1195,
    "start_time": "2024-01-22T19:52:28.705Z"
   },
   {
    "duration": 7,
    "start_time": "2024-01-22T19:53:06.829Z"
   },
   {
    "duration": 12,
    "start_time": "2024-01-22T19:53:09.046Z"
   },
   {
    "duration": 1175,
    "start_time": "2024-01-22T19:53:11.443Z"
   },
   {
    "duration": 1722,
    "start_time": "2024-01-22T19:53:20.703Z"
   },
   {
    "duration": 4,
    "start_time": "2024-01-22T19:53:32.759Z"
   },
   {
    "duration": 12,
    "start_time": "2024-01-22T19:53:56.419Z"
   },
   {
    "duration": 9,
    "start_time": "2024-01-22T19:54:39.896Z"
   },
   {
    "duration": 8,
    "start_time": "2024-01-22T19:55:10.103Z"
   },
   {
    "duration": 8,
    "start_time": "2024-01-22T19:55:17.423Z"
   },
   {
    "duration": 17,
    "start_time": "2024-01-22T19:55:31.166Z"
   },
   {
    "duration": 1460,
    "start_time": "2024-01-22T19:55:36.444Z"
   },
   {
    "duration": 14,
    "start_time": "2024-01-22T19:57:14.027Z"
   },
   {
    "duration": 322,
    "start_time": "2024-01-22T19:57:26.513Z"
   },
   {
    "duration": 16,
    "start_time": "2024-01-22T19:57:43.279Z"
   },
   {
    "duration": 12,
    "start_time": "2024-01-22T19:58:40.733Z"
   },
   {
    "duration": 124,
    "start_time": "2024-01-22T20:04:24.729Z"
   },
   {
    "duration": 142,
    "start_time": "2024-01-22T20:05:14.523Z"
   },
   {
    "duration": 118,
    "start_time": "2024-01-22T20:05:50.976Z"
   },
   {
    "duration": 61,
    "start_time": "2024-01-22T20:06:07.216Z"
   },
   {
    "duration": 167,
    "start_time": "2024-01-22T20:06:18.545Z"
   },
   {
    "duration": 13,
    "start_time": "2024-01-22T20:10:15.955Z"
   },
   {
    "duration": 2739,
    "start_time": "2024-01-22T20:10:27.078Z"
   },
   {
    "duration": 1396,
    "start_time": "2024-01-22T20:10:47.005Z"
   },
   {
    "duration": 11,
    "start_time": "2024-01-22T20:10:56.264Z"
   },
   {
    "duration": 14,
    "start_time": "2024-01-22T20:11:13.923Z"
   },
   {
    "duration": 13,
    "start_time": "2024-01-22T20:11:25.879Z"
   },
   {
    "duration": 161,
    "start_time": "2024-01-22T20:11:56.482Z"
   },
   {
    "duration": 8,
    "start_time": "2024-01-22T20:12:56.780Z"
   },
   {
    "duration": 5,
    "start_time": "2024-01-22T20:13:02.473Z"
   },
   {
    "duration": 7,
    "start_time": "2024-01-22T20:13:06.230Z"
   },
   {
    "duration": 1166,
    "start_time": "2024-01-22T20:13:28.655Z"
   },
   {
    "duration": 4,
    "start_time": "2024-01-22T20:13:41.015Z"
   },
   {
    "duration": 174,
    "start_time": "2024-01-22T20:16:10.558Z"
   },
   {
    "duration": 143,
    "start_time": "2024-01-22T20:16:35.862Z"
   },
   {
    "duration": 7,
    "start_time": "2024-01-22T20:16:57.196Z"
   },
   {
    "duration": 145,
    "start_time": "2024-01-22T20:17:04.807Z"
   },
   {
    "duration": 135,
    "start_time": "2024-01-22T20:17:18.461Z"
   },
   {
    "duration": 197,
    "start_time": "2024-01-22T20:17:32.498Z"
   },
   {
    "duration": 294,
    "start_time": "2024-01-22T20:18:23.330Z"
   },
   {
    "duration": 143,
    "start_time": "2024-01-22T20:18:40.074Z"
   },
   {
    "duration": 10,
    "start_time": "2024-01-22T20:19:36.336Z"
   },
   {
    "duration": 869,
    "start_time": "2024-01-22T20:20:03.328Z"
   },
   {
    "duration": 287,
    "start_time": "2024-01-22T20:20:16.069Z"
   },
   {
    "duration": 5,
    "start_time": "2024-01-22T20:21:13.474Z"
   },
   {
    "duration": 8,
    "start_time": "2024-01-22T20:21:48.763Z"
   },
   {
    "duration": 86,
    "start_time": "2024-01-22T20:22:14.812Z"
   },
   {
    "duration": 7,
    "start_time": "2024-01-22T20:22:41.966Z"
   },
   {
    "duration": 3,
    "start_time": "2024-01-22T20:23:01.429Z"
   },
   {
    "duration": 11,
    "start_time": "2024-01-22T20:23:09.558Z"
   },
   {
    "duration": 296,
    "start_time": "2024-01-22T20:23:37.027Z"
   },
   {
    "duration": 203,
    "start_time": "2024-01-22T20:24:21.248Z"
   },
   {
    "duration": 169,
    "start_time": "2024-01-22T20:24:40.716Z"
   },
   {
    "duration": 147,
    "start_time": "2024-01-22T20:27:18.067Z"
   },
   {
    "duration": 145,
    "start_time": "2024-01-22T20:27:53.161Z"
   },
   {
    "duration": 118,
    "start_time": "2024-01-22T20:29:47.770Z"
   },
   {
    "duration": 215,
    "start_time": "2024-01-22T20:30:38.619Z"
   },
   {
    "duration": 17,
    "start_time": "2024-01-22T20:39:07.163Z"
   },
   {
    "duration": 134,
    "start_time": "2024-01-22T20:39:36.560Z"
   },
   {
    "duration": 152,
    "start_time": "2024-01-22T20:39:53.655Z"
   },
   {
    "duration": 167,
    "start_time": "2024-01-22T20:40:06.115Z"
   },
   {
    "duration": 150,
    "start_time": "2024-01-22T20:40:36.184Z"
   },
   {
    "duration": 166,
    "start_time": "2024-01-22T20:42:10.510Z"
   },
   {
    "duration": 140,
    "start_time": "2024-01-22T20:42:26.506Z"
   },
   {
    "duration": 112,
    "start_time": "2024-01-22T20:44:46.386Z"
   },
   {
    "duration": 121,
    "start_time": "2024-01-22T20:44:55.747Z"
   },
   {
    "duration": 125,
    "start_time": "2024-01-22T20:46:43.650Z"
   },
   {
    "duration": 97,
    "start_time": "2024-01-22T20:48:28.359Z"
   },
   {
    "duration": 97,
    "start_time": "2024-01-22T20:48:46.378Z"
   },
   {
    "duration": 102,
    "start_time": "2024-01-22T20:50:41.156Z"
   },
   {
    "duration": 194,
    "start_time": "2024-01-22T20:51:07.353Z"
   },
   {
    "duration": 97,
    "start_time": "2024-01-22T20:54:40.504Z"
   },
   {
    "duration": 504,
    "start_time": "2024-01-22T20:55:26.458Z"
   },
   {
    "duration": 25,
    "start_time": "2024-01-22T20:55:31.050Z"
   },
   {
    "duration": 124,
    "start_time": "2024-01-22T20:55:46.404Z"
   },
   {
    "duration": 128,
    "start_time": "2024-01-22T20:56:08.848Z"
   },
   {
    "duration": 136,
    "start_time": "2024-01-22T20:56:22.349Z"
   },
   {
    "duration": 224,
    "start_time": "2024-01-22T20:57:24.419Z"
   },
   {
    "duration": 141,
    "start_time": "2024-01-22T20:58:13.870Z"
   },
   {
    "duration": 122,
    "start_time": "2024-01-22T20:58:32.543Z"
   },
   {
    "duration": 117,
    "start_time": "2024-01-22T20:58:53.228Z"
   },
   {
    "duration": 130,
    "start_time": "2024-01-22T20:59:25.571Z"
   },
   {
    "duration": 169,
    "start_time": "2024-01-22T21:00:10.368Z"
   },
   {
    "duration": 139,
    "start_time": "2024-01-22T21:00:17.959Z"
   },
   {
    "duration": 133,
    "start_time": "2024-01-22T21:00:26.071Z"
   },
   {
    "duration": 141,
    "start_time": "2024-01-22T21:00:35.592Z"
   },
   {
    "duration": 156,
    "start_time": "2024-01-22T21:01:01.891Z"
   },
   {
    "duration": 143,
    "start_time": "2024-01-22T21:01:18.766Z"
   },
   {
    "duration": 151,
    "start_time": "2024-01-22T21:01:43.007Z"
   },
   {
    "duration": 130,
    "start_time": "2024-01-22T21:01:47.783Z"
   },
   {
    "duration": 1105,
    "start_time": "2024-01-22T21:02:15.567Z"
   },
   {
    "duration": 143,
    "start_time": "2024-01-22T21:02:56.443Z"
   },
   {
    "duration": 145,
    "start_time": "2024-01-22T21:03:04.548Z"
   },
   {
    "duration": 156,
    "start_time": "2024-01-22T21:04:03.807Z"
   },
   {
    "duration": 273,
    "start_time": "2024-01-22T21:04:11.384Z"
   },
   {
    "duration": 148,
    "start_time": "2024-01-22T21:04:23.068Z"
   },
   {
    "duration": 137,
    "start_time": "2024-01-22T21:04:31.850Z"
   },
   {
    "duration": 143,
    "start_time": "2024-01-22T21:04:50.060Z"
   },
   {
    "duration": 137,
    "start_time": "2024-01-22T21:04:58.188Z"
   },
   {
    "duration": 127,
    "start_time": "2024-01-22T21:05:05.445Z"
   },
   {
    "duration": 126,
    "start_time": "2024-01-22T21:05:17.234Z"
   },
   {
    "duration": 123,
    "start_time": "2024-01-22T21:05:25.459Z"
   },
   {
    "duration": 120,
    "start_time": "2024-01-22T21:05:29.142Z"
   },
   {
    "duration": 130,
    "start_time": "2024-01-22T21:05:33.594Z"
   },
   {
    "duration": 134,
    "start_time": "2024-01-22T21:05:42.196Z"
   },
   {
    "duration": 49,
    "start_time": "2024-01-23T06:42:17.825Z"
   },
   {
    "duration": 744,
    "start_time": "2024-01-23T06:42:26.445Z"
   },
   {
    "duration": 21,
    "start_time": "2024-01-23T06:42:27.191Z"
   },
   {
    "duration": 43,
    "start_time": "2024-01-23T06:42:27.213Z"
   },
   {
    "duration": 37,
    "start_time": "2024-01-23T06:42:27.258Z"
   },
   {
    "duration": 55,
    "start_time": "2024-01-23T06:42:27.297Z"
   },
   {
    "duration": 13,
    "start_time": "2024-01-23T06:42:27.354Z"
   },
   {
    "duration": 35,
    "start_time": "2024-01-23T06:42:27.369Z"
   },
   {
    "duration": 43,
    "start_time": "2024-01-23T06:42:27.405Z"
   },
   {
    "duration": 38,
    "start_time": "2024-01-23T06:42:27.449Z"
   },
   {
    "duration": 51,
    "start_time": "2024-01-23T06:42:27.490Z"
   },
   {
    "duration": 55,
    "start_time": "2024-01-23T06:42:27.543Z"
   },
   {
    "duration": 12,
    "start_time": "2024-01-23T06:42:27.599Z"
   },
   {
    "duration": 9,
    "start_time": "2024-01-23T06:42:27.612Z"
   },
   {
    "duration": 14,
    "start_time": "2024-01-23T06:42:27.622Z"
   },
   {
    "duration": 32,
    "start_time": "2024-01-23T06:42:27.638Z"
   },
   {
    "duration": 17,
    "start_time": "2024-01-23T06:42:27.672Z"
   },
   {
    "duration": 8,
    "start_time": "2024-01-23T06:42:27.691Z"
   },
   {
    "duration": 35,
    "start_time": "2024-01-23T06:42:27.701Z"
   },
   {
    "duration": 19,
    "start_time": "2024-01-23T06:42:27.738Z"
   },
   {
    "duration": 45,
    "start_time": "2024-01-23T06:42:27.759Z"
   },
   {
    "duration": 93,
    "start_time": "2024-01-23T06:42:27.806Z"
   },
   {
    "duration": 29,
    "start_time": "2024-01-23T06:42:27.900Z"
   },
   {
    "duration": 1105,
    "start_time": "2024-01-23T06:42:27.931Z"
   },
   {
    "duration": 15,
    "start_time": "2024-01-23T06:42:29.038Z"
   },
   {
    "duration": 5,
    "start_time": "2024-01-23T06:42:29.066Z"
   },
   {
    "duration": 95,
    "start_time": "2024-01-23T06:42:29.073Z"
   },
   {
    "duration": 0,
    "start_time": "2024-01-23T06:42:29.170Z"
   },
   {
    "duration": 0,
    "start_time": "2024-01-23T06:42:29.171Z"
   },
   {
    "duration": 156,
    "start_time": "2024-01-23T06:42:49.656Z"
   },
   {
    "duration": 159,
    "start_time": "2024-01-23T06:42:58.498Z"
   },
   {
    "duration": 175,
    "start_time": "2024-01-23T06:43:08.387Z"
   },
   {
    "duration": 171,
    "start_time": "2024-01-23T06:43:30.296Z"
   },
   {
    "duration": 14,
    "start_time": "2024-01-23T06:45:21.708Z"
   },
   {
    "duration": 70,
    "start_time": "2024-01-23T06:46:35.113Z"
   },
   {
    "duration": 130,
    "start_time": "2024-01-23T06:46:55.345Z"
   },
   {
    "duration": 130,
    "start_time": "2024-01-23T06:49:10.438Z"
   },
   {
    "duration": 14,
    "start_time": "2024-01-23T06:49:20.443Z"
   },
   {
    "duration": 208,
    "start_time": "2024-01-23T06:50:06.321Z"
   },
   {
    "duration": 147,
    "start_time": "2024-01-23T06:50:12.788Z"
   },
   {
    "duration": 159,
    "start_time": "2024-01-23T06:50:19.800Z"
   },
   {
    "duration": 176,
    "start_time": "2024-01-23T06:52:06.565Z"
   },
   {
    "duration": 165,
    "start_time": "2024-01-23T06:52:13.818Z"
   },
   {
    "duration": 150,
    "start_time": "2024-01-23T06:52:28.232Z"
   },
   {
    "duration": 13,
    "start_time": "2024-01-23T06:52:49.975Z"
   },
   {
    "duration": 152,
    "start_time": "2024-01-23T06:52:51.276Z"
   },
   {
    "duration": 13,
    "start_time": "2024-01-23T06:53:04.601Z"
   },
   {
    "duration": 121,
    "start_time": "2024-01-23T06:53:12.863Z"
   },
   {
    "duration": 13,
    "start_time": "2024-01-23T06:53:20.969Z"
   },
   {
    "duration": 179,
    "start_time": "2024-01-23T06:53:28.562Z"
   },
   {
    "duration": 13,
    "start_time": "2024-01-23T06:53:35.484Z"
   },
   {
    "duration": 129,
    "start_time": "2024-01-23T06:53:41.664Z"
   },
   {
    "duration": 34,
    "start_time": "2024-01-23T06:55:47.542Z"
   },
   {
    "duration": 12,
    "start_time": "2024-01-23T06:55:58.313Z"
   },
   {
    "duration": 125,
    "start_time": "2024-01-23T07:10:53.156Z"
   }
  ],
  "colab": {
   "name": "dpp_template_part2.ipynb",
   "provenance": []
  },
  "kernelspec": {
   "display_name": "Python 3 (ipykernel)",
   "language": "python",
   "name": "python3"
  },
  "language_info": {
   "codemirror_mode": {
    "name": "ipython",
    "version": 3
   },
   "file_extension": ".py",
   "mimetype": "text/x-python",
   "name": "python",
   "nbconvert_exporter": "python",
   "pygments_lexer": "ipython3",
   "version": "3.9.5"
  },
  "toc": {
   "base_numbering": 1,
   "nav_menu": {},
   "number_sections": true,
   "sideBar": true,
   "skip_h1_title": true,
   "title_cell": "Table of Contents",
   "title_sidebar": "Contents",
   "toc_cell": false,
   "toc_position": {},
   "toc_section_display": true,
   "toc_window_display": false
  }
 },
 "nbformat": 4,
 "nbformat_minor": 5
}
